{
 "cells": [
  {
   "cell_type": "code",
   "execution_count": 1,
   "id": "3fc3404c-dbdc-49d6-ab9a-d0edb15911da",
   "metadata": {},
   "outputs": [],
   "source": [
    "import os\n",
    "import tensorflow as tf\n",
    "from object_detection.utils import label_map_util\n",
    "from object_detection.utils import visualization_utils as viz_utils\n",
    "from object_detection.builders import model_builder\n",
    "from object_detection.utils import config_util\n",
    "import cv2\n",
    "import numpy as np\n",
    "from keras import models\n",
    "import numpy as np\n",
    "import re"
   ]
  },
  {
   "cell_type": "markdown",
   "id": "3609d215-9eeb-4a0a-92e0-7317912f8f9e",
   "metadata": {},
   "source": [
    "# Khai báo các đường dẫn đến các file và thư mục làm việc"
   ]
  },
  {
   "cell_type": "code",
   "execution_count": 2,
   "id": "e45c5e5e-a7e0-4e9d-bbf3-57eb7d4383a5",
   "metadata": {},
   "outputs": [],
   "source": [
    "main_folder_path = os.path.dirname(os.getcwd())"
   ]
  },
  {
   "cell_type": "code",
   "execution_count": 34,
   "id": "37d8e24c-05c3-4c04-9cc6-32dfeb9c3fe3",
   "metadata": {},
   "outputs": [],
   "source": [
    "config_path = os.path.join(main_folder_path,'config\\\\pipeline.config')\n",
    "model_character_path = os.path.join(main_folder_path, 'model', 'classfication_character', 'model_license_plate_v9.h5')\n",
    "label_path = os.path.join(main_folder_path, 'config\\\\label_map.pbtxt')\n",
    "checkpoint_path = os.path.join(main_folder_path, 'model\\\\detect_liscense_plate_v2')\n",
    "test_folder_path = r'D:\\car_long'\n",
    "result_folder_path = os.path.join(main_folder_path,'images_result')"
   ]
  },
  {
   "cell_type": "markdown",
   "id": "8dd00cae-a16a-488a-8de3-443a8233e348",
   "metadata": {},
   "source": [
    "# Load model checkpoint dự đoán vị trí biển số xe và model nhận dạng kí tự"
   ]
  },
  {
   "cell_type": "code",
   "execution_count": 4,
   "id": "a912de95-9441-4747-9fe1-8dc9eea4c7ec",
   "metadata": {},
   "outputs": [],
   "source": [
    "#Tạo chỉ số danh mục cho label\n",
    "category_index = label_map_util.create_category_index_from_labelmap(label_path)\n",
    "# Load dữ liệu từ file config và xây dựng model dự đoán\n",
    "configs = config_util.get_configs_from_pipeline_file(config_path)\n",
    "detection_model = model_builder.build(model_config=configs['model'], is_training=False)\n",
    "# Phục hồi checkpoint và khởi tạo mô hình dự đoán vị trí biển số xe dựa vào checkpoint bất kì\n",
    "ckpt = tf.compat.v2.train.Checkpoint(model=detection_model)\n",
    "# model_checkpoint = ckpt.restore(os.path.join(checkpoint_path, 'ckpt-13')).expect_partial()"
   ]
  },
  {
   "cell_type": "code",
   "execution_count": 5,
   "id": "53a130ed-c83d-41d2-80be-bbe19b3bb9e7",
   "metadata": {},
   "outputs": [],
   "source": [
    "model_checkpoint = ckpt.restore(r'D:\\Code_school_nam3ki2\\TestModel\\check\\ckpt-21').expect_partial()"
   ]
  },
  {
   "cell_type": "code",
   "execution_count": 6,
   "id": "b8b5443b-a55d-4c54-88e2-a3acf67a4c5e",
   "metadata": {},
   "outputs": [],
   "source": [
    "# Load model nhận dạng kí tự\n",
    "model_character = models.load_model(model_character_path)"
   ]
  },
  {
   "cell_type": "code",
   "execution_count": 7,
   "id": "002e5f5b-307a-4a80-b243-60c0f0e2f08c",
   "metadata": {},
   "outputs": [
    {
     "data": {
      "text/plain": [
       "{1: {'id': 1, 'name': 'licence'}}"
      ]
     },
     "execution_count": 7,
     "metadata": {},
     "output_type": "execute_result"
    }
   ],
   "source": [
    "category_index"
   ]
  },
  {
   "cell_type": "markdown",
   "id": "3dd4ce2c-206c-40d2-a3b3-8f2238dcf857",
   "metadata": {},
   "source": [
    "# Khai báo các hàm cần thiết cho quá trình dự đoán"
   ]
  },
  {
   "cell_type": "markdown",
   "id": "564fd324-c268-4655-be96-d5bbd87e2562",
   "metadata": {},
   "source": [
    "## Tiền xử lí ảnh, dự đoán vị trí biển số và hậu xử lí dữ liệu dự đoán"
   ]
  },
  {
   "cell_type": "code",
   "execution_count": 8,
   "id": "f5d2313a-6a0c-4f98-9601-39173f76c6af",
   "metadata": {},
   "outputs": [],
   "source": [
    "@tf.function\n",
    "def detect_fn(image):\n",
    "    #Resize lại ảnh đầu vào và chuẩn hóa dữ liệu\n",
    "    image, shapes = detection_model.preprocess(image)\n",
    "    #Dự đoán kết quả\n",
    "    prediction_dict = detection_model.predict(image, shapes)\n",
    "    #Hậu xử lí kết quả dự đoán\n",
    "    detections = detection_model.postprocess(prediction_dict, shapes)\n",
    "    return detections"
   ]
  },
  {
   "cell_type": "markdown",
   "id": "01fc5aff-373b-4e8e-bcf4-63aedbe0aef5",
   "metadata": {},
   "source": [
    "## Tiền xử lí ảnh biển số xe, chuẩn bị phân đoạn kí tự"
   ]
  },
  {
   "cell_type": "code",
   "execution_count": 9,
   "id": "b5f8ef60-40d8-431f-8e8e-7afc40026b27",
   "metadata": {},
   "outputs": [],
   "source": [
    "def pre_process(img, W):\n",
    "    #Hóa xám ảnh\n",
    "    img_gray = cv2.cvtColor(img, cv2.COLOR_BGR2GRAY) \n",
    "    #Làm mờ, giảm nhiễu ảnh\n",
    "    bfilter = cv2.bilateralFilter(img_gray, 11, 17, 17) \n",
    "    #Phân ngưỡng và nhị phân hóa ảnh\n",
    "    binary = cv2.adaptiveThreshold(bfilter, 255, cv2.ADAPTIVE_THRESH_MEAN_C, cv2.THRESH_BINARY_INV, int(W/20) if int(W/20)%2 !=0  else int(W/20)+1, 15) \n",
    "    return binary"
   ]
  },
  {
   "cell_type": "markdown",
   "id": "b9d2df35-c2a0-4f4c-92d4-e84fdf9b263b",
   "metadata": {},
   "source": [
    "## Tiền xử lí ảnh biển số xe, chuẩn bị phát hiện ảnh bị nghiêng và xoay ảnh"
   ]
  },
  {
   "cell_type": "code",
   "execution_count": 10,
   "id": "4f56b6b5",
   "metadata": {},
   "outputs": [],
   "source": [
    "def preprocess_img_crop(img):\n",
    "    #Hóa xám\n",
    "    img_gray = cv2.cvtColor(img, cv2.COLOR_BGR2GRAY)\n",
    "    cv2.imshow('img_gray', img_gray)\n",
    "    cv2.waitKey()\n",
    "    cv2.destroyAllWindows()\n",
    "    #Làm mờ, giảm nhiễu ảnh\n",
    "    bfilter = cv2.bilateralFilter(img_gray, 11, 17, 17)\n",
    "    #Làm mờ gaussian, chuẩn bị phân ngưỡng ảnh\n",
    "    img_blur = cv2.GaussianBlur(bfilter, (3, 3), 0)\n",
    "    cv2.imshow('img_blur', img_blur)\n",
    "    cv2.waitKey()\n",
    "    cv2.destroyAllWindows()\n",
    "    # Phân ngưỡng, nhị phân hóa ảnh\n",
    "    ret, img_bin = cv2.threshold(img_blur, 0, 255, cv2.THRESH_BINARY + cv2.THRESH_OTSU)\n",
    "    # Đảo ngược ảnh (nền đen, chữ trắng)\n",
    "    img_bin = 255 - img_bin\n",
    "    cv2.imshow('img_bin', img_bin)\n",
    "    cv2.waitKey()\n",
    "    cv2.destroyAllWindows()\n",
    "    return img_bin"
   ]
  },
  {
   "cell_type": "markdown",
   "id": "cbe21bc7-dde2-4eeb-a54d-a464f852176b",
   "metadata": {},
   "source": [
    "## Xoay ảnh biển số"
   ]
  },
  {
   "cell_type": "code",
   "execution_count": 11,
   "id": "1fdfe709",
   "metadata": {},
   "outputs": [],
   "source": [
    "def rotation_img_crop(img, img_bin):\n",
    "    # Tìm các đường viền\n",
    "    contours, _ = cv2.findContours(255 - img_bin, cv2.RETR_EXTERNAL, cv2.CHAIN_APPROX_SIMPLE)\n",
    "    # Lọc ra đường viền của biển số dựa trên diện tích\n",
    "    license_plate_contour = max(contours, key=cv2.contourArea)\n",
    "    # Tìm hình chữ nhật nhỏ nhất bao quanh đường viền\n",
    "    rect = cv2.minAreaRect(license_plate_contour)\n",
    "    # Tính góc nghiêng của hình chữ nhật\n",
    "    angle = rect[2]\n",
    "    # Nếu góc lớn hơn 45 độ, điều chỉnh lại để góc nghiêng nằm trong khoảng từ -45 đến 45 độ\n",
    "    if angle > 45:\n",
    "        angle = -(90 - angle)\n",
    "    # Xoay ảnh theo góc nghiêng\n",
    "    (h, w) = img.shape[:2]\n",
    "    # Lấy trung tâm ảnh\n",
    "    center = (w // 2, h // 2)\n",
    "    # Tạo ma trận xoay ảnh\n",
    "    M = cv2.getRotationMatrix2D(center, angle, 1.0)\n",
    "    #Tiến hành xoay ảnh dựa vào ma trận xoay ảnh\n",
    "    rotated = cv2.warpAffine(img, M, (w, h), flags=cv2.INTER_CUBIC, borderMode=cv2.BORDER_REPLICATE)\n",
    "    print(\"Góc nghiêng của biển số so với trục Ox: \", angle)\n",
    "    return rotated"
   ]
  },
  {
   "cell_type": "markdown",
   "id": "2badc734-6574-43bc-992f-175a0236fdeb",
   "metadata": {},
   "source": [
    "## Dự đoán vị trí biển số xe"
   ]
  },
  {
   "cell_type": "code",
   "execution_count": 12,
   "id": "52f21cdc-2039-4987-9b9c-d13e897e0e66",
   "metadata": {},
   "outputs": [],
   "source": [
    "def predict_license_plate(img):\n",
    "\n",
    "    height, width = img.shape[:2]\n",
    "    #Chuyển ma trận thành mảng numpy\n",
    "    image_np = np.array(img)\n",
    "    \n",
    "    #Tăng thêm một chiều cho dữ liệu và chuyển đổi ảnh sang tensor\n",
    "    input_tensor = tf.convert_to_tensor(np.expand_dims(image_np, 0), dtype=tf.float32)\n",
    "    \n",
    "    # Dự đoán vị trí biển số xe\n",
    "    detections = detect_fn(input_tensor)\n",
    "    \n",
    "    # Lấy ra số lượng dự đoán\n",
    "    num_detections = int(detections.pop('num_detections'))\n",
    "    \n",
    "    # Lấy ra dữ liệu dự đoán tương ứng với số lượng dự đoán\n",
    "    detections = {key: value[0, :num_detections].numpy() for key, value in detections.items()}\n",
    "    \n",
    "    detections['num_detections'] = num_detections\n",
    "\n",
    "    # Chuyển đổi kiểu dữ liệu lớp dự đoán thành interger để khớp với kiểu dữ liệu của category_index\n",
    "    detections['detection_classes'] = detections['detection_classes'].astype(np.int64)\n",
    "\n",
    "    # Dữ liệu cộng thêm vào lớp dự đoán\n",
    "    label_id_offset = 1\n",
    "    \n",
    "    image_np_with_detections = image_np.copy()\n",
    "    image_np_crop = image_np.copy()\n",
    "\n",
    "    #Tiến hành vẽ khung chữ nhật bao quanh vị trí biển số xe\n",
    "    viz_utils.visualize_boxes_and_labels_on_image_array(\n",
    "        image_np_with_detections,\n",
    "        detections['detection_boxes'], #Vị trí của hộp dự đoán bao gồm ymin, xmin, ymax, xmax   \n",
    "        detections['detection_classes'] + label_id_offset, #Cộng vô để khớp với category_index vì chỉ số của category_index bắt đầu từ 1 không phải 0 như detections['detection_classes']\n",
    "        detections['detection_scores'], #Điểm cũng chính là độ chính xác\n",
    "        category_index, #Chỉ số danh mục\n",
    "        use_normalized_coordinates=True, #Chuấn hóa về 0 => 1\n",
    "        max_boxes_to_draw=1, #Số khung tối đa có thể vẽ\n",
    "        min_score_thresh = 0.5, #Độ chính xác thấp nhất phải là 80%\n",
    "        agnostic_mode=False) #Tất cả các hộp đều được vẽ cùng màu\n",
    "    \n",
    "    #Ngưỡng điểm thấp nhất là 70%\n",
    "    score_threshold = 0.7\n",
    "    #Lấy ra điểm có độ chính xác trên 70%\n",
    "    scores = [sc for sc in detections['detection_scores'] if sc >= score_threshold]\n",
    "    \n",
    "    #Lấy ra số lượng bounding box tương ứng với số lượng điểm\n",
    "    boxes = detections['detection_boxes'][:len(scores)]\n",
    "\n",
    "    box = boxes[0] if boxes.any() else None\n",
    "    \n",
    "    return image_np_with_detections, image_np_crop, box"
   ]
  },
  {
   "cell_type": "markdown",
   "id": "1372b160-192b-4939-ab66-bb4791451c1a",
   "metadata": {},
   "source": [
    "## Cắt ra ảnh chứa khung biển số xe"
   ]
  },
  {
   "cell_type": "code",
   "execution_count": 13,
   "id": "fb1a71a5",
   "metadata": {},
   "outputs": [],
   "source": [
    "def get_detections(img, detections):\n",
    "    img_crop = None\n",
    "\n",
    "    #Lấy ra ymin, xmin, ymax, xmax từ dữ liệu dự đoán(bounding box)\n",
    "    ymin, xmin, ymax, xmax = detections\n",
    "\n",
    "    #Lấy ra chiều cao và chiều rộng của ảnh\n",
    "    height, width, _ = img.shape\n",
    "\n",
    "    #Chuyển đổi dữ liệu bounding box tương ứng với kích thước của ảnh\n",
    "    ymin = int(ymin * height)\n",
    "    ymax = int(ymax * height)\n",
    "    xmin = int(xmin * width)\n",
    "    xmax = int(xmax * width)\n",
    "\n",
    "    #Tính toán dữ liệu điểm tọa độ (X, Y) bắt đầu bounding box, chiều cao và chiều rộng của bounding box\n",
    "    X = xmin \n",
    "    Y = ymin\n",
    "    W = xmax - xmin\n",
    "    H = ymax - ymin\n",
    "    \n",
    "    \n",
    "    if X != None and Y != None and W != None and H != None:\n",
    "        #Cắt vùng chứa biển số xe\n",
    "        img_crop = img[int(Y)-10: int(Y)+int(H) + 10, int(X)-10: int(X)+int(W)+10] if int(Y)-5 > 0 and int(X)-5 > 0 else img[int(Y): int(Y)+int(H), int(X): int(X)+int(W)]\n",
    "        cv2.imwrite(os.path.join(result_folder_path, \"cropped_image.jpg\"), img_crop)\n",
    "        #Loại bỏ nhiễu \n",
    "        img_crop = cv2.fastNlMeansDenoisingColored(img_crop, None, 10, 10, 7, 21)\n",
    "    return img_crop, X,Y,W,H"
   ]
  },
  {
   "cell_type": "markdown",
   "id": "1d1cc85f-192d-457e-8442-9470c9ef2c7c",
   "metadata": {},
   "source": [
    "## Dự đoán kí tự từ đường dẫn ảnh"
   ]
  },
  {
   "cell_type": "code",
   "execution_count": 14,
   "id": "25406419",
   "metadata": {},
   "outputs": [],
   "source": [
    "def predict_image(image_path, model):\n",
    "    # img = improve_image_resolution(cv2.imread(image_path), \"EDSR_x4.pb\")\n",
    "    img = cv2.imread(image_path)  \n",
    "    gray_img = cv2.cvtColor(img, cv2.COLOR_BGR2GRAY)\n",
    "    resized_img = cv2.resize(gray_img, (40,30))\n",
    "    img_array = np.array(resized_img) \n",
    "    img_array = img_array/255.0\n",
    "    img_input = img_array.reshape((-1, 30, 40, 1))\n",
    "    pred = model.predict(img_input)\n",
    "    labels = ['0', '1', '2', '3', '4', '5', '6', '7', '8', '9', 'A', 'B', 'C', 'D', 'E', 'F', 'G', 'H', 'I', 'J', 'K', 'L', 'M', 'N', 'P', 'Q', 'R', 'S', 'T', 'U', 'V', 'W', 'X', 'Y', 'Z']\n",
    "    predicted_label = labels[np.argmax(pred)]\n",
    "    return predicted_label"
   ]
  },
  {
   "cell_type": "markdown",
   "id": "9c784693-4785-407c-9f67-13db6895792d",
   "metadata": {},
   "source": [
    "## Dự đoán kí tự từ ảnh"
   ]
  },
  {
   "cell_type": "code",
   "execution_count": 15,
   "id": "a6084231",
   "metadata": {},
   "outputs": [],
   "source": [
    "def predict_image_2(img, model):\n",
    "    gray_img = cv2.cvtColor(img, cv2.COLOR_BGR2GRAY)\n",
    "    resized_img = cv2.resize(gray_img, (40,30))\n",
    "    img_array = np.array(resized_img) \n",
    "    img_array = img_array/255.0\n",
    "    img_input = img_array.reshape((-1, 30, 40, 1))\n",
    "    pred = model.predict(img_input)\n",
    "    labels = ['0', '1', '2', '3', '4', '5', '6', '7', '8', '9', 'A', 'B', 'C', 'D', 'E', 'F', 'G', 'H', 'I', 'J', 'K', 'L', 'M', 'N', 'P', 'Q', 'R', 'S', 'T', 'U', 'V', 'W', 'X', 'Y', 'Z']\n",
    "    predicted_label = labels[np.argmax(pred)]\n",
    "    return predicted_label"
   ]
  },
  {
   "cell_type": "markdown",
   "id": "2cc8087c-a2a1-4da6-8069-3548cba08107",
   "metadata": {},
   "source": [
    "## Phân đoạn kí tự"
   ]
  },
  {
   "cell_type": "code",
   "execution_count": 16,
   "id": "c77d0583-6fd4-4601-aba9-a4590980faa4",
   "metadata": {},
   "outputs": [],
   "source": [
    "def segmentation_character(binary, img, img_crop, model_character, X, Y, W, H, type = 0) :\n",
    "    num_labels, labels, stats, centroids = cv2.connectedComponentsWithStats(binary, connectivity=8)\n",
    "    print(\"Num_labels:\", num_labels)\n",
    "    candidates = []\n",
    "    bounding_rects = []\n",
    "    list_character = []\n",
    "    i = 0\n",
    "    for label in range(1, num_labels):\n",
    "        # Tạo mask chứa các pixel có nhãn cùng là label\n",
    "        mask = np.zeros(binary.shape, dtype=np.uint8)\n",
    "        mask[labels == label] = 255 # Các các pixel cùng nhãn giá trị 255\n",
    "        # Tìm contours từ mask\n",
    "        contours, _ = cv2.findContours(mask, cv2.RETR_EXTERNAL, cv2.CHAIN_APPROX_SIMPLE)\n",
    "\n",
    "        # Lọc contours theo tiêu chí aspect ratio, solidity và height ratio\n",
    "        for contour in contours:\n",
    "            x, y, w, h = cv2.boundingRect(contour)\n",
    "            aspect_ratio = w / float(h)\n",
    "            solidity = cv2.contourArea(contour) / float(w * h)\n",
    "            height_ratio = h / float(binary.shape[0])\n",
    "\n",
    "            #Loại bỏ nhiễu dựa vào aspect ratio, solidity và height ratio\n",
    "            if 0.2 < aspect_ratio < 0.8 and solidity > 0.1 and 0.2 < height_ratio < 1.0:\n",
    "                bounding_rects.append((x, y, w, h))\n",
    "                # Trích xuất ký tự\n",
    "                character = img_crop[y-3: y + h+3, x-int(h*3/10-w/2):x + w+int(h*3/10-w/2)]\n",
    "                candidates.append((x, y, character))\n",
    "\n",
    "    if candidates[-1][1]/float(candidates[0][1]) > 2:  \n",
    "        list_character_first = []\n",
    "        list_character_second = []          \n",
    "        first_lines = [item for item in candidates if (candidates[-1][1]/float(item[1])) >= 2.0 ]\n",
    "        second_lines = [item for item in candidates if (candidates[-1][1]/float(item[1])) < 2.0 ]\n",
    "        first_lines.sort(key=lambda item: item[0])\n",
    "        first_lines = [item for item in first_lines]\n",
    "        second_lines.sort(key=lambda item: item[0])\n",
    "        second_lines = [item for item in second_lines]\n",
    "        for first_line in first_lines:\n",
    "                i+=1\n",
    "                filename = f\"region_{i}.jpg\"\n",
    "                save_path = os.path.join(result_folder_path, filename)\n",
    "                cv2.imwrite(save_path, first_line[2])\n",
    "                list_character_first.append(predict_image(save_path, model_character))\n",
    "\n",
    "        for idx, (x, y,char)  in enumerate(first_lines):\n",
    "        # Vẽ hình chữ nhật bao quanh ký tự\n",
    "            cv2.rectangle(img, (x+int(X)-4, y+int(Y)-3), (x+int(X) + char.shape[1] - 6, y+int(Y) + char.shape[0] - 5), (0, 255, 0), 2)\n",
    "        \n",
    "        # Hiển thị ký tự lên ảnh\n",
    "            cv2.putText(img, list_character_first[idx], (x+int(X)-3, y + int(Y)-3), cv2.FONT_HERSHEY_SIMPLEX, 1, (0, 0, 255), 2)   \n",
    "                    \n",
    "        for second_line in second_lines:\n",
    "                i+=1\n",
    "                filename = f\"region_{i}.jpg\"\n",
    "                save_path = os.path.join(result_folder_path, filename)\n",
    "                cv2.imwrite(save_path, second_line[2])\n",
    "                list_character_second.append(predict_image(save_path,model_character))\n",
    "        list_character.extend(list_character_first)\n",
    "        list_character.extend(list_character_second)\n",
    "        for idx, (x, y,char)  in enumerate(second_lines):\n",
    "        # Vẽ hình chữ nhật bao quanh ký tự\n",
    "            cv2.rectangle(img, (x+int(X)-4, y+int(Y)-3), (x+int(X) + char.shape[1] - 6, y+int(Y) + char.shape[0] - 5), (0, 255, 0), 2)\n",
    "        \n",
    "        # Hiển thị ký tự lên ảnh\n",
    "            cv2.putText(img, list_character_second[idx], (x+int(X)-3, y + int(Y)-3), cv2.FONT_HERSHEY_SIMPLEX, 1, (0, 0, 255), 2)\n",
    "\n",
    "    # Hiển thị ảnh với các ký tự đã nhận dạng được vẽ lên\n",
    "        cv2.imshow(\"Detected Characters\", img)\n",
    "    else:\n",
    "        candidates.sort(key=lambda item: item[0])\n",
    "        candidates = [item for item in candidates]     \n",
    "        for character in candidates:\n",
    "                i+=1\n",
    "                filename = f\"region_{i}.jpg\"\n",
    "                save_path = os.path.join(result_folder_path, filename)\n",
    "                cv2.imwrite(save_path, character[2])\n",
    "                list_character.append(predict_image(save_path,model_character))\n",
    "        for idx, (x, y,char)  in enumerate(candidates):\n",
    "        # Vẽ hình chữ nhật bao quanh ký tự\n",
    "            cv2.rectangle(img, (x+int(X)-4, y+int(Y)-3), (x+int(X) + char.shape[1] - 6, y+int(Y) + char.shape[0] - 5), (0, 255, 0), 2)\n",
    "    \n",
    "        # Hiển thị ký tự lên ảnh\n",
    "            cv2.putText(img, list_character[idx], (x+int(X)-3, y + int(Y)-3), cv2.FONT_HERSHEY_SIMPLEX, 1, (0, 0, 255), 2)\n",
    "            \n",
    "        # Hiển thị ảnh với các ký tự đã nhận dạng được vẽ lên\n",
    "        cv2.imshow(\"Detected Characters\", img)\n",
    "    if type == 0:\n",
    "        cv2.waitKey()\n",
    "        cv2.destroyAllWindows()\n",
    "    \n",
    "    return \"\".join(list_character)"
   ]
  },
  {
   "cell_type": "markdown",
   "id": "6d5db259-03b0-443c-810d-9c7230690f1a",
   "metadata": {},
   "source": [
    "# Tương tác với vi điều khiển"
   ]
  },
  {
   "cell_type": "code",
   "execution_count": 17,
   "id": "c9834f80",
   "metadata": {},
   "outputs": [],
   "source": [
    "import subprocess\n",
    "import requests"
   ]
  },
  {
   "cell_type": "markdown",
   "id": "f6ea8fec-aaaa-454e-bbf2-29cefb74513f",
   "metadata": {},
   "source": [
    "## Tìm địa chỉ IP dựa vào địa chỉ Mac"
   ]
  },
  {
   "cell_type": "code",
   "execution_count": 18,
   "id": "ac60d2cc",
   "metadata": {},
   "outputs": [],
   "source": [
    "def find_ip_by_mac(target_mac):\n",
    "    # Sử dụng lệnh arp -a để lấy danh sách các thiết bị trong mạng local và thông tin ARP của chúng\n",
    "    cmd = ['arp', '-a']\n",
    "    returned_output = subprocess.check_output(cmd, shell=False, stderr=subprocess.STDOUT)\n",
    "    decoded_output = returned_output.decode('utf-8')\n",
    "    \n",
    "    # Tìm kiếm địa chỉ IP dựa trên địa chỉ MAC\n",
    "    lines = decoded_output.split('\\n')\n",
    "    for line in lines:\n",
    "        if target_mac in line:\n",
    "            ip = line.split()[0]\n",
    "            return ip\n",
    "    # Trả về None nếu không tìm thấy địa chỉ IP cho địa chỉ MAC đích\n",
    "    return None"
   ]
  },
  {
   "cell_type": "markdown",
   "id": "c1e6bb80-4d37-4d6f-a4a8-e9e5d57ef9e6",
   "metadata": {},
   "source": [
    "## Nhận lệnh từ esp8266"
   ]
  },
  {
   "cell_type": "code",
   "execution_count": 19,
   "id": "c8610e62",
   "metadata": {},
   "outputs": [],
   "source": [
    "def get_command_from_esp8266(Mac_address):\n",
    "    ip = find_ip_by_mac(Mac_address)\n",
    "    if ip is None:\n",
    "        print(f\"Không thể tìm thấy địa chỉ IP cho địa chỉ MAC {Mac_address}\")\n",
    "        return None\n",
    "    try:\n",
    "        url = f\"http://{ip}/doline\"\n",
    "        response = requests.get(url)\n",
    "        if response.status_code == 200:\n",
    "            text = response.text\n",
    "            return text\n",
    "        else:\n",
    "            print(f\"Lỗi khi gửi dữ liệu: {response.status_code}\")\n",
    "            return None\n",
    "    except Exception as e:\n",
    "        print(f\"Không thể kết nối đến ESP8266: {e}\")\n",
    "        return None"
   ]
  },
  {
   "cell_type": "markdown",
   "id": "baff8ff5-a910-4bed-bfff-9a8ac1b33c30",
   "metadata": {},
   "source": [
    "## Gửi dữ liệu đến esp8266"
   ]
  },
  {
   "cell_type": "code",
   "execution_count": 20,
   "id": "7b87880b",
   "metadata": {},
   "outputs": [],
   "source": [
    "def send_to_esp8266(data, Mac_address):\n",
    "    ip = find_ip_by_mac(Mac_address)\n",
    "    if ip is None:\n",
    "        print(f\"Không thể tìm thấy địa chỉ IP cho địa chỉ MAC {Mac_address}\")\n",
    "        return None\n",
    "    try:\n",
    "        url = f\"http://{ip}/data?data={data}\"\n",
    "        response = requests.get(url, data=data)\n",
    "        if response.status_code == 200:\n",
    "            text = response.text\n",
    "            return text\n",
    "        else:\n",
    "            print(f\"Lỗi khi gửi dữ liệu: {response.status_code}\")\n",
    "            return None\n",
    "    except Exception as e:\n",
    "        print(f\"Không thể kết nối đến ESP8266: {e}\")\n",
    "        return None"
   ]
  },
  {
   "cell_type": "markdown",
   "id": "8dafba03-c022-48bb-8264-1fde9f27155e",
   "metadata": {},
   "source": [
    "# Áp dụng các hàm và tiến hành nhận dạng"
   ]
  },
  {
   "cell_type": "markdown",
   "id": "ebce38fb-8903-4ee6-b4bc-cbda9356e5be",
   "metadata": {},
   "source": [
    "## Nhận dạng từ ảnh"
   ]
  },
  {
   "cell_type": "code",
   "execution_count": 26,
   "id": "9b7088bb-e85f-42e0-a933-1753bbeafcdc",
   "metadata": {},
   "outputs": [],
   "source": [
    "def image_detect(IMAGE_PATH, model_character):\n",
    "    image_original = cv2.imread(IMAGE_PATH)\n",
    "    image_np_with_detections, img, results = predict_license_plate(image_original)\n",
    "    if results is None:\n",
    "        print(f\"Không tìm thấy biển số trong ảnh {IMAGE_PATH}\")\n",
    "        return\n",
    "    cv2.imshow('image_np_with_detections', image_np_with_detections)\n",
    "    cv2.waitKey()\n",
    "    cv2.destroyAllWindows()\n",
    "    img_crop, X,Y,W,H = get_detections(img, results)\n",
    "    cv2.imshow('img_crop', img_crop)\n",
    "    cv2.waitKey()\n",
    "    cv2.destroyAllWindows()\n",
    "    img_crop_rotation = rotation_img_crop(img_crop, preprocess_img_crop(img_crop))\n",
    "    cv2.imshow('img_crop_rotation', img_crop_rotation)\n",
    "    cv2.waitKey()\n",
    "    cv2.destroyAllWindows()\n",
    "    binary = pre_process(img_crop_rotation, W)\n",
    "    print(segmentation_character(binary, img, img_crop, model_character, X, Y, W, H))"
   ]
  },
  {
   "cell_type": "markdown",
   "id": "6d416b20-0e4e-4500-8543-a0721beb328c",
   "metadata": {},
   "source": [
    "## Nhận dạng từ camera"
   ]
  },
  {
   "cell_type": "code",
   "execution_count": 27,
   "id": "dfb35c84-1183-409b-9326-78f45117ccdc",
   "metadata": {},
   "outputs": [],
   "source": [
    "def camera_detect(model_character):\n",
    "    cap = cv2.VideoCapture(1)\n",
    "    while cap.isOpened():\n",
    "        try:\n",
    "            img_crop = None\n",
    "            ret, img = cap.read()\n",
    "            if not ret:\n",
    "                print(\"Không thể đọc từ camera.\")\n",
    "                break\n",
    "            img = cv2.resize(img, (800, 600))\n",
    "            image_np_with_detections, img, results = predict_license_plate(img)\n",
    "            img_crop, X,Y,W,H = get_detections(img, results)\n",
    "            if img_crop is not None:\n",
    "                img_crop_rotation = rotation_img_crop(img_crop, preprocess_img_crop(img_crop))\n",
    "                binary = pre_process(img_crop_rotation, W)\n",
    "                list_character = segmentation_character(binary, img, img_crop_rotation, model_character, X, Y, W, H, 1)\n",
    "                print(list_character)\n",
    "            else:\n",
    "                print(\"Không tìm thấy biển số.\")\n",
    "            if cv2.waitKey(10) == ord('q'):\n",
    "                break\n",
    "        except Exception as e:\n",
    "            print(f\"Đã xảy ra lỗi: {e}\")\n",
    "    cap.release()\n",
    "    cv2.destroyAllWindows()"
   ]
  },
  {
   "cell_type": "code",
   "execution_count": 28,
   "id": "8b4ac357",
   "metadata": {},
   "outputs": [],
   "source": [
    "# camera_detect(model_character, \"84-f3-eb-75-b0-2e\")"
   ]
  },
  {
   "cell_type": "code",
   "execution_count": 35,
   "id": "cf1f9e81-a261-4945-a5a4-9ec5d9c148b9",
   "metadata": {},
   "outputs": [],
   "source": [
    "list_test = os.listdir(test_folder_path)\n",
    "list_test = [os.path.join(test_folder_path, l) for l in list_test if not l.endswith(\".xml\")]"
   ]
  },
  {
   "cell_type": "code",
   "execution_count": 1,
   "id": "53f0d36e-84b3-4ad0-b6eb-25d82fbc393e",
   "metadata": {},
   "outputs": [],
   "source": [
    "img_path = r\"D:\\car_long\\82.jpg\""
   ]
  },
  {
   "cell_type": "code",
   "execution_count": null,
   "id": "ced3d885-d694-4b0c-8e05-46129997dd08",
   "metadata": {},
   "outputs": [],
   "source": [
    "image_detect(img_path, model_character)"
   ]
  },
  {
   "cell_type": "code",
   "execution_count": 36,
   "id": "b5b79b68-a40a-43c3-a2ab-212a33f86cfd",
   "metadata": {},
   "outputs": [
    {
     "name": "stdout",
     "output_type": "stream",
     "text": [
      "D:\\car_long\\10148.jpg\n",
      "Đang xử lý ảnh 1/1000 (0.10%)\n",
      "D:\\car_long\\10149.jpg\n",
      "Đang xử lý ảnh 2/1000 (0.20%)\n",
      "D:\\car_long\\10690.jpg\n",
      "Đang xử lý ảnh 3/1000 (0.30%)\n",
      "D:\\car_long\\10691.jpg\n",
      "Đang xử lý ảnh 4/1000 (0.40%)\n",
      "D:\\car_long\\1070.jpg\n",
      "Đang xử lý ảnh 5/1000 (0.50%)\n",
      "D:\\car_long\\1071.jpg\n",
      "Đang xử lý ảnh 6/1000 (0.60%)\n",
      "Không tìm thấy biển số trong ảnh D:\\car_long\\1071.jpg\n",
      "D:\\car_long\\10997.jpg\n",
      "Đang xử lý ảnh 7/1000 (0.70%)\n",
      "Không tìm thấy biển số trong ảnh D:\\car_long\\10997.jpg\n",
      "D:\\car_long\\11024.jpg\n",
      "Đang xử lý ảnh 8/1000 (0.80%)\n",
      "D:\\car_long\\11025.jpg\n",
      "Đang xử lý ảnh 9/1000 (0.90%)\n",
      "Không tìm thấy biển số trong ảnh D:\\car_long\\11025.jpg\n",
      "D:\\car_long\\11044.jpg\n",
      "Đang xử lý ảnh 10/1000 (1.00%)\n",
      "D:\\car_long\\11045.jpg\n",
      "Đang xử lý ảnh 11/1000 (1.10%)\n",
      "D:\\car_long\\11084.jpg\n",
      "Đang xử lý ảnh 12/1000 (1.20%)\n",
      "D:\\car_long\\11090.jpg\n",
      "Đang xử lý ảnh 13/1000 (1.30%)\n",
      "D:\\car_long\\11118.jpg\n",
      "Đang xử lý ảnh 14/1000 (1.40%)\n",
      "D:\\car_long\\11119.jpg\n",
      "Đang xử lý ảnh 15/1000 (1.50%)\n",
      "Không tìm thấy biển số trong ảnh D:\\car_long\\11119.jpg\n",
      "D:\\car_long\\11172.jpg\n",
      "Đang xử lý ảnh 16/1000 (1.60%)\n",
      "D:\\car_long\\11173.jpg\n",
      "Đang xử lý ảnh 17/1000 (1.70%)\n",
      "D:\\car_long\\11210.jpg\n",
      "Đang xử lý ảnh 18/1000 (1.80%)\n",
      "D:\\car_long\\11211.jpg\n",
      "Đang xử lý ảnh 19/1000 (1.90%)\n",
      "Không tìm thấy biển số trong ảnh D:\\car_long\\11211.jpg\n",
      "D:\\car_long\\11276.jpg\n",
      "Đang xử lý ảnh 20/1000 (2.00%)\n",
      "D:\\car_long\\11278.jpg\n",
      "Đang xử lý ảnh 21/1000 (2.10%)\n",
      "D:\\car_long\\11279.jpg\n",
      "Đang xử lý ảnh 22/1000 (2.20%)\n",
      "D:\\car_long\\11292.jpg\n",
      "Đang xử lý ảnh 23/1000 (2.30%)\n",
      "D:\\car_long\\11473.jpg\n",
      "Đang xử lý ảnh 24/1000 (2.40%)\n",
      "Không tìm thấy biển số trong ảnh D:\\car_long\\11473.jpg\n",
      "D:\\car_long\\11477.jpg\n",
      "Đang xử lý ảnh 25/1000 (2.50%)\n",
      "Không tìm thấy biển số trong ảnh D:\\car_long\\11477.jpg\n",
      "D:\\car_long\\11508.jpg\n",
      "Đang xử lý ảnh 26/1000 (2.60%)\n",
      "D:\\car_long\\11509.jpg\n",
      "Đang xử lý ảnh 27/1000 (2.70%)\n",
      "Không tìm thấy biển số trong ảnh D:\\car_long\\11509.jpg\n",
      "D:\\car_long\\11564.jpg\n",
      "Đang xử lý ảnh 28/1000 (2.80%)\n",
      "D:\\car_long\\11565.jpg\n",
      "Đang xử lý ảnh 29/1000 (2.90%)\n",
      "Không tìm thấy biển số trong ảnh D:\\car_long\\11565.jpg\n",
      "D:\\car_long\\11664.jpg\n",
      "Đang xử lý ảnh 30/1000 (3.00%)\n",
      "D:\\car_long\\11665.jpg\n",
      "Đang xử lý ảnh 31/1000 (3.10%)\n",
      "Không tìm thấy biển số trong ảnh D:\\car_long\\11665.jpg\n",
      "D:\\car_long\\11842.jpg\n",
      "Đang xử lý ảnh 32/1000 (3.20%)\n",
      "D:\\car_long\\11843.jpg\n",
      "Đang xử lý ảnh 33/1000 (3.30%)\n",
      "D:\\car_long\\12214.jpg\n",
      "Đang xử lý ảnh 34/1000 (3.40%)\n",
      "D:\\car_long\\12215.jpg\n",
      "Đang xử lý ảnh 35/1000 (3.50%)\n",
      "D:\\car_long\\12244.jpg\n",
      "Đang xử lý ảnh 36/1000 (3.60%)\n",
      "D:\\car_long\\12245.jpg\n",
      "Đang xử lý ảnh 37/1000 (3.70%)\n",
      "D:\\car_long\\12264.jpg\n",
      "Đang xử lý ảnh 38/1000 (3.80%)\n",
      "D:\\car_long\\12265.jpg\n",
      "Đang xử lý ảnh 39/1000 (3.90%)\n",
      "D:\\car_long\\12276.jpg\n",
      "Đang xử lý ảnh 40/1000 (4.00%)\n",
      "D:\\car_long\\12277.jpg\n",
      "Đang xử lý ảnh 41/1000 (4.10%)\n",
      "D:\\car_long\\12304.jpg\n",
      "Đang xử lý ảnh 42/1000 (4.20%)\n",
      "D:\\car_long\\12305.jpg\n",
      "Đang xử lý ảnh 43/1000 (4.30%)\n",
      "D:\\car_long\\12310.jpg\n",
      "Đang xử lý ảnh 44/1000 (4.40%)\n",
      "D:\\car_long\\12311.jpg\n",
      "Đang xử lý ảnh 45/1000 (4.50%)\n",
      "D:\\car_long\\12338.jpg\n",
      "Đang xử lý ảnh 46/1000 (4.60%)\n",
      "D:\\car_long\\12339.jpg\n",
      "Đang xử lý ảnh 47/1000 (4.70%)\n",
      "D:\\car_long\\12430.jpg\n",
      "Đang xử lý ảnh 48/1000 (4.80%)\n",
      "D:\\car_long\\12431.jpg\n",
      "Đang xử lý ảnh 49/1000 (4.90%)\n",
      "D:\\car_long\\12496.jpg\n",
      "Đang xử lý ảnh 50/1000 (5.00%)\n",
      "D:\\car_long\\12497.jpg\n",
      "Đang xử lý ảnh 51/1000 (5.10%)\n",
      "D:\\car_long\\12498.jpg\n",
      "Đang xử lý ảnh 52/1000 (5.20%)\n",
      "D:\\car_long\\12499.jpg\n",
      "Đang xử lý ảnh 53/1000 (5.30%)\n",
      "D:\\car_long\\12681.jpg\n",
      "Đang xử lý ảnh 54/1000 (5.40%)\n",
      "D:\\car_long\\12684.jpg\n",
      "Đang xử lý ảnh 55/1000 (5.50%)\n",
      "D:\\car_long\\12772.jpg\n",
      "Đang xử lý ảnh 56/1000 (5.60%)\n",
      "D:\\car_long\\12773.jpg\n",
      "Đang xử lý ảnh 57/1000 (5.70%)\n",
      "D:\\car_long\\128.jpg\n",
      "Đang xử lý ảnh 58/1000 (5.80%)\n",
      "D:\\car_long\\129.jpg\n",
      "Đang xử lý ảnh 59/1000 (5.90%)\n",
      "Không tìm thấy biển số trong ảnh D:\\car_long\\129.jpg\n",
      "D:\\car_long\\13038.jpg\n",
      "Đang xử lý ảnh 60/1000 (6.00%)\n",
      "D:\\car_long\\13386.jpg\n",
      "Đang xử lý ảnh 61/1000 (6.10%)\n",
      "D:\\car_long\\13387.jpg\n",
      "Đang xử lý ảnh 62/1000 (6.20%)\n",
      "Không tìm thấy biển số trong ảnh D:\\car_long\\13387.jpg\n",
      "D:\\car_long\\13416.jpg\n",
      "Đang xử lý ảnh 63/1000 (6.30%)\n",
      "D:\\car_long\\13417.jpg\n",
      "Đang xử lý ảnh 64/1000 (6.40%)\n",
      "Không tìm thấy biển số trong ảnh D:\\car_long\\13417.jpg\n",
      "D:\\car_long\\13451.jpg\n",
      "Đang xử lý ảnh 65/1000 (6.50%)\n",
      "Không tìm thấy biển số trong ảnh D:\\car_long\\13451.jpg\n",
      "D:\\car_long\\13490.jpg\n",
      "Đang xử lý ảnh 66/1000 (6.60%)\n",
      "D:\\car_long\\13491.jpg\n",
      "Đang xử lý ảnh 67/1000 (6.70%)\n",
      "D:\\car_long\\13522.jpg\n",
      "Đang xử lý ảnh 68/1000 (6.80%)\n",
      "D:\\car_long\\13523.jpg\n",
      "Đang xử lý ảnh 69/1000 (6.90%)\n",
      "Không tìm thấy biển số trong ảnh D:\\car_long\\13523.jpg\n",
      "D:\\car_long\\13559.jpg\n",
      "Đang xử lý ảnh 70/1000 (7.00%)\n",
      "Không tìm thấy biển số trong ảnh D:\\car_long\\13559.jpg\n",
      "D:\\car_long\\13562.jpg\n",
      "Đang xử lý ảnh 71/1000 (7.10%)\n",
      "D:\\car_long\\13563.jpg\n",
      "Đang xử lý ảnh 72/1000 (7.20%)\n",
      "Không tìm thấy biển số trong ảnh D:\\car_long\\13563.jpg\n",
      "D:\\car_long\\1357.jpg\n",
      "Đang xử lý ảnh 73/1000 (7.30%)\n",
      "Không tìm thấy biển số trong ảnh D:\\car_long\\1357.jpg\n",
      "D:\\car_long\\13601.jpg\n",
      "Đang xử lý ảnh 74/1000 (7.40%)\n",
      "Không tìm thấy biển số trong ảnh D:\\car_long\\13601.jpg\n",
      "D:\\car_long\\13620.jpg\n",
      "Đang xử lý ảnh 75/1000 (7.50%)\n",
      "D:\\car_long\\13621.jpg\n",
      "Đang xử lý ảnh 76/1000 (7.60%)\n",
      "D:\\car_long\\13623.jpg\n",
      "Đang xử lý ảnh 77/1000 (7.70%)\n",
      "D:\\car_long\\13638.jpg\n",
      "Đang xử lý ảnh 78/1000 (7.80%)\n",
      "D:\\car_long\\13639.jpg\n",
      "Đang xử lý ảnh 79/1000 (7.90%)\n",
      "Không tìm thấy biển số trong ảnh D:\\car_long\\13639.jpg\n",
      "D:\\car_long\\13707.jpg\n",
      "Đang xử lý ảnh 80/1000 (8.00%)\n",
      "D:\\car_long\\13716.jpg\n",
      "Đang xử lý ảnh 81/1000 (8.10%)\n",
      "D:\\car_long\\13717.jpg\n",
      "Đang xử lý ảnh 82/1000 (8.20%)\n",
      "Không tìm thấy biển số trong ảnh D:\\car_long\\13717.jpg\n",
      "D:\\car_long\\13761.jpg\n",
      "Đang xử lý ảnh 83/1000 (8.30%)\n",
      "Không tìm thấy biển số trong ảnh D:\\car_long\\13761.jpg\n",
      "D:\\car_long\\13764.jpg\n",
      "Đang xử lý ảnh 84/1000 (8.40%)\n",
      "D:\\car_long\\13765.jpg\n",
      "Đang xử lý ảnh 85/1000 (8.50%)\n",
      "Không tìm thấy biển số trong ảnh D:\\car_long\\13765.jpg\n",
      "D:\\car_long\\13768.jpg\n",
      "Đang xử lý ảnh 86/1000 (8.60%)\n"
     ]
    },
    {
     "ename": "KeyboardInterrupt",
     "evalue": "",
     "output_type": "error",
     "traceback": [
      "\u001b[1;31m---------------------------------------------------------------------------\u001b[0m",
      "\u001b[1;31mKeyboardInterrupt\u001b[0m                         Traceback (most recent call last)",
      "Cell \u001b[1;32mIn[36], line 6\u001b[0m\n\u001b[0;32m      4\u001b[0m \u001b[38;5;28mprint\u001b[39m(\u001b[38;5;124mf\u001b[39m\u001b[38;5;124m\"\u001b[39m\u001b[38;5;124mĐang xử lý ảnh \u001b[39m\u001b[38;5;132;01m{\u001b[39;00mi\u001b[38;5;132;01m}\u001b[39;00m\u001b[38;5;124m/\u001b[39m\u001b[38;5;132;01m{\u001b[39;00m\u001b[38;5;28mlen\u001b[39m(list_test)\u001b[38;5;132;01m}\u001b[39;00m\u001b[38;5;124m (\u001b[39m\u001b[38;5;132;01m{\u001b[39;00mpercentage\u001b[38;5;132;01m:\u001b[39;00m\u001b[38;5;124m.2f\u001b[39m\u001b[38;5;132;01m}\u001b[39;00m\u001b[38;5;124m%)\u001b[39m\u001b[38;5;124m\"\u001b[39m)\n\u001b[0;32m      5\u001b[0m \u001b[38;5;28;01mtry\u001b[39;00m:\n\u001b[1;32m----> 6\u001b[0m     \u001b[43mimage_detect\u001b[49m\u001b[43m(\u001b[49m\u001b[43mimage_path\u001b[49m\u001b[43m,\u001b[49m\u001b[43m \u001b[49m\u001b[43mmodel_character\u001b[49m\u001b[43m)\u001b[49m\n\u001b[0;32m      7\u001b[0m \u001b[38;5;28;01mexcept\u001b[39;00m \u001b[38;5;167;01mException\u001b[39;00m \u001b[38;5;28;01mas\u001b[39;00m e:\n\u001b[0;32m      8\u001b[0m     \u001b[38;5;28mprint\u001b[39m(\u001b[38;5;124mf\u001b[39m\u001b[38;5;124m\"\u001b[39m\u001b[38;5;124mLỗi: \u001b[39m\u001b[38;5;132;01m{\u001b[39;00me\u001b[38;5;132;01m}\u001b[39;00m\u001b[38;5;124m\"\u001b[39m)\n",
      "Cell \u001b[1;32mIn[26], line 11\u001b[0m, in \u001b[0;36mimage_detect\u001b[1;34m(IMAGE_PATH, model_character)\u001b[0m\n\u001b[0;32m      9\u001b[0m     \u001b[38;5;28;01mreturn\u001b[39;00m\n\u001b[0;32m     10\u001b[0m cv2\u001b[38;5;241m.\u001b[39mimshow(\u001b[38;5;124m'\u001b[39m\u001b[38;5;124mimage_np_with_detections\u001b[39m\u001b[38;5;124m'\u001b[39m, image_np_with_detections)\n\u001b[1;32m---> 11\u001b[0m \u001b[43mcv2\u001b[49m\u001b[38;5;241;43m.\u001b[39;49m\u001b[43mwaitKey\u001b[49m\u001b[43m(\u001b[49m\u001b[43m)\u001b[49m\n\u001b[0;32m     12\u001b[0m cv2\u001b[38;5;241m.\u001b[39mdestroyAllWindows()\n",
      "\u001b[1;31mKeyboardInterrupt\u001b[0m: "
     ]
    }
   ],
   "source": [
    "for i, image_path in enumerate(list_test, 1):\n",
    "    percentage = (i/len(list_test))*100\n",
    "    print(image_path)\n",
    "    print(f\"Đang xử lý ảnh {i}/{len(list_test)} ({percentage:.2f}%)\")\n",
    "    try:\n",
    "        image_detect(image_path, model_character)\n",
    "    except Exception as e:\n",
    "        print(f\"Lỗi: {e}\")"
   ]
  },
  {
   "cell_type": "code",
   "execution_count": null,
   "id": "2e190583-33de-45bb-87ae-aab61423db37",
   "metadata": {},
   "outputs": [],
   "source": []
  }
 ],
 "metadata": {
  "kernelspec": {
   "display_name": "py310",
   "language": "python",
   "name": "py310"
  },
  "language_info": {
   "codemirror_mode": {
    "name": "ipython",
    "version": 3
   },
   "file_extension": ".py",
   "mimetype": "text/x-python",
   "name": "python",
   "nbconvert_exporter": "python",
   "pygments_lexer": "ipython3",
   "version": "3.10.14"
  }
 },
 "nbformat": 4,
 "nbformat_minor": 5
}
