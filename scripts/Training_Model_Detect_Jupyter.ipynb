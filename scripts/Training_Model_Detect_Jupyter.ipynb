{
 "cells": [
  {
   "cell_type": "code",
   "execution_count": 1,
   "id": "6d35141e-4b6d-4578-b049-525ab8dd7a56",
   "metadata": {},
   "outputs": [],
   "source": [
    "import os\n",
    "import object_detection\n",
    "import tensorflow as tf\n",
    "from object_detection.utils import config_util\n",
    "from object_detection.protos import pipeline_pb2\n",
    "from google.protobuf import text_format\n",
    "import wget\n",
    "import torch"
   ]
  },
  {
   "cell_type": "code",
   "execution_count": 2,
   "id": "72f66fc1-bfdb-4538-bbe1-0e55c97ef12d",
   "metadata": {},
   "outputs": [
    {
     "data": {
      "text/plain": [
       "device(type='cuda')"
      ]
     },
     "execution_count": 2,
     "metadata": {},
     "output_type": "execute_result"
    }
   ],
   "source": [
    "device = torch.device('cuda' if torch.cuda.is_available() else 'cpu')\n",
    "device"
   ]
  },
  {
   "cell_type": "code",
   "execution_count": 3,
   "id": "e3217aff-149a-49dd-950a-5134b76d1686",
   "metadata": {},
   "outputs": [
    {
     "data": {
      "text/plain": [
       "[PhysicalDevice(name='/physical_device:GPU:0', device_type='GPU')]"
      ]
     },
     "execution_count": 3,
     "metadata": {},
     "output_type": "execute_result"
    }
   ],
   "source": [
    "tf.config.list_physical_devices('GPU')"
   ]
  },
  {
   "cell_type": "code",
   "execution_count": 4,
   "id": "b41e0d3d-66ac-47ee-bde6-630c6145926b",
   "metadata": {},
   "outputs": [
    {
     "data": {
      "text/plain": [
       "'D:\\\\Code_school_nam3ki2\\\\TestModel'"
      ]
     },
     "execution_count": 4,
     "metadata": {},
     "output_type": "execute_result"
    }
   ],
   "source": [
    "CUSTOM_MODEL_NAME = 'my_ssd_mobnet' \n",
    "PRETRAINED_MODEL_NAME = 'ssd_mobilenet_v2_fpnlite_320x320_coco17_tpu-8'\n",
    "PRETRAINED_MODEL_URL = 'http://download.tensorflow.org/models/object_detection/tf2/20200711/ssd_mobilenet_v2_fpnlite_320x320_coco17_tpu-8.tar.gz'\n",
    "TF_RECORD_SCRIPT_NAME = 'generate_tfrecord.py'\n",
    "LABEL_MAP_NAME = 'label_map.pbtxt'\n",
    "MAIN_FOLDER_PATH = os.path.dirname(os.getcwd())\n",
    "MAIN_FOLDER_PATH"
   ]
  },
  {
   "cell_type": "code",
   "execution_count": 5,
   "id": "96c9911d-dcd8-4a0a-ba9a-f92e91be6759",
   "metadata": {},
   "outputs": [
    {
     "data": {
      "text/plain": [
       "{'WORKSPACE_PATH': 'D:\\\\Code_school_nam3ki2\\\\TestModel\\\\Tensorflow\\\\workspace',\n",
       " 'SCRIPTS_PATH': 'D:\\\\Code_school_nam3ki2\\\\TestModel\\\\Tensorflow\\\\scripts',\n",
       " 'APIMODEL_PATH': 'D:\\\\Code_school_nam3ki2\\\\TestModel\\\\Tensorflow\\\\models',\n",
       " 'ANNOTATION_PATH': 'D:\\\\Code_school_nam3ki2\\\\TestModel\\\\Tensorflow\\\\workspace\\\\annotations',\n",
       " 'IMAGE_PATH': 'D:\\\\Code_school_nam3ki2\\\\TestModel\\\\Tensorflow\\\\workspace\\\\images',\n",
       " 'MODEL_PATH': 'D:\\\\Code_school_nam3ki2\\\\TestModel\\\\Tensorflow\\\\workspace\\\\models',\n",
       " 'PRETRAINED_MODEL_PATH': 'D:\\\\Code_school_nam3ki2\\\\TestModel\\\\Tensorflow\\\\workspace\\\\pre-trained-models',\n",
       " 'CHECKPOINT_PATH': 'D:\\\\Code_school_nam3ki2\\\\TestModel\\\\Tensorflow\\\\workspace\\\\models\\\\my_ssd_mobnet',\n",
       " 'EXPORTED_MODEL_PATH': 'D:\\\\Code_school_nam3ki2\\\\TestModel\\\\Tensorflow\\\\workspace\\\\exported-models\\\\my_ssd_mobnet',\n",
       " 'PROTOC_PATH': 'D:\\\\Code_school_nam3ki2\\\\TestModel\\\\Tensorflow\\\\protoc'}"
      ]
     },
     "execution_count": 5,
     "metadata": {},
     "output_type": "execute_result"
    }
   ],
   "source": [
    "paths = {\n",
    "    'WORKSPACE_PATH': os.path.join(MAIN_FOLDER_PATH, 'Tensorflow', 'workspace'),\n",
    "    'SCRIPTS_PATH': os.path.join(MAIN_FOLDER_PATH, 'Tensorflow','scripts'),\n",
    "    'APIMODEL_PATH': os.path.join(MAIN_FOLDER_PATH, 'Tensorflow','models'),\n",
    "    'ANNOTATION_PATH': os.path.join(MAIN_FOLDER_PATH, 'Tensorflow', 'workspace','annotations'),\n",
    "    'IMAGE_PATH': os.path.join(MAIN_FOLDER_PATH, 'Tensorflow', 'workspace','images'),\n",
    "    'MODEL_PATH': os.path.join(MAIN_FOLDER_PATH, 'Tensorflow', 'workspace','models'),\n",
    "    'PRETRAINED_MODEL_PATH': os.path.join(MAIN_FOLDER_PATH,'Tensorflow', 'workspace','pre-trained-models'),\n",
    "    'CHECKPOINT_PATH': os.path.join(MAIN_FOLDER_PATH,'Tensorflow', 'workspace','models',CUSTOM_MODEL_NAME), \n",
    "    'EXPORTED_MODEL_PATH': os.path.join(MAIN_FOLDER_PATH,'Tensorflow', 'workspace','exported-models', CUSTOM_MODEL_NAME),\n",
    "    'PROTOC_PATH':os.path.join(MAIN_FOLDER_PATH,'Tensorflow','protoc')\n",
    "}\n",
    "paths"
   ]
  },
  {
   "cell_type": "code",
   "execution_count": 6,
   "id": "1f482fb8-cc2f-4fd6-95f2-fbacc6faaa6e",
   "metadata": {},
   "outputs": [
    {
     "data": {
      "text/plain": [
       "{'PIPELINE_CONFIG': 'D:\\\\Code_school_nam3ki2\\\\TestModel\\\\Tensorflow\\\\workspace\\\\models\\\\my_ssd_mobnet\\\\pipeline.config',\n",
       " 'TF_RECORD_SCRIPT': 'D:\\\\Code_school_nam3ki2\\\\TestModel\\\\Tensorflow\\\\scripts\\\\generate_tfrecord.py',\n",
       " 'LABELMAP': 'D:\\\\Code_school_nam3ki2\\\\TestModel\\\\Tensorflow\\\\workspace\\\\annotations\\\\label_map.pbtxt'}"
      ]
     },
     "execution_count": 6,
     "metadata": {},
     "output_type": "execute_result"
    }
   ],
   "source": [
    "files = {\n",
    "    'PIPELINE_CONFIG':os.path.join(MAIN_FOLDER_PATH,'Tensorflow', 'workspace','models', CUSTOM_MODEL_NAME, 'pipeline.config'),\n",
    "    'TF_RECORD_SCRIPT': os.path.join(paths['SCRIPTS_PATH'], TF_RECORD_SCRIPT_NAME), \n",
    "    'LABELMAP': os.path.join(paths['ANNOTATION_PATH'], LABEL_MAP_NAME)\n",
    "}\n",
    "files"
   ]
  },
  {
   "cell_type": "code",
   "execution_count": 7,
   "id": "fa8505d3-e3fb-4c95-a763-a7c49e0cda63",
   "metadata": {},
   "outputs": [],
   "source": [
    "# Create Directory Structure\n",
    "for path in paths.values():\n",
    "    if not os.path.exists(path):\n",
    "        os.makedirs(path)"
   ]
  },
  {
   "cell_type": "code",
   "execution_count": 8,
   "id": "f89558fb-a7e9-436e-ae00-b913de7951f9",
   "metadata": {},
   "outputs": [],
   "source": [
    "# Create Label Map\n",
    "labels = [\n",
    "    {'name':'licence', 'id':1}\n",
    "]   "
   ]
  },
  {
   "cell_type": "code",
   "execution_count": 9,
   "id": "a0fa66a5-b549-4a37-b32f-caf9c88d0c86",
   "metadata": {},
   "outputs": [
    {
     "data": {
      "text/plain": [
       "0"
      ]
     },
     "execution_count": 9,
     "metadata": {},
     "output_type": "execute_result"
    }
   ],
   "source": [
    "# Create TF records\n",
    "if not os.path.exists(files['TF_RECORD_SCRIPT']):\n",
    "    os.system(f\"git clone https://github.com/nicknochnack/GenerateTFRecord {paths['SCRIPTS_PATH']}\")\n",
    "os.system(f\"python {files['TF_RECORD_SCRIPT']} -x {os.path.join(paths['IMAGE_PATH'], 'train')} -l {files['LABELMAP']} -o {os.path.join(paths['ANNOTATION_PATH'], 'train.record')}\")\n",
    "os.system(f\"python {files['TF_RECORD_SCRIPT']} -x {os.path.join(paths['IMAGE_PATH'], 'test')} -l {files['LABELMAP']} -o {os.path.join(paths['ANNOTATION_PATH'], 'test.record')}\")"
   ]
  },
  {
   "cell_type": "code",
   "execution_count": 10,
   "id": "ab9d5684-b0b6-4410-aa24-57c8c2ca2e55",
   "metadata": {},
   "outputs": [],
   "source": [
    "#Copy model config từ file config của pretrain_model\n",
    "command_copy_model_config = f\"copy {os.path.join(paths['EXPORTED_MODEL_PATH'], 'pipeline.config')} {os.path.join(paths['CHECKPOINT_PATH'])}\""
   ]
  },
  {
   "cell_type": "code",
   "execution_count": 11,
   "id": "12743862-e365-49dc-9173-1bab7dc6e30e",
   "metadata": {},
   "outputs": [
    {
     "name": "stdout",
     "output_type": "stream",
     "text": [
      "        1 file(s) copied.\n"
     ]
    }
   ],
   "source": [
    "!{command_copy_model_config}"
   ]
  },
  {
   "cell_type": "code",
   "execution_count": 12,
   "id": "8ad0e3d2-bb9b-4bb8-9991-c9dfdc82237f",
   "metadata": {},
   "outputs": [],
   "source": [
    "# Đọc tệp pipeline.config và lấy ra tất cả các cấu hình.\n",
    "configs = config_util.get_configs_from_pipeline_file(files['PIPELINE_CONFIG'])"
   ]
  },
  {
   "cell_type": "code",
   "execution_count": 13,
   "id": "98398f51-c9ad-422c-9ab4-f2395be7502e",
   "metadata": {},
   "outputs": [],
   "source": [
    "# Custom lại model\n",
    "configs['model'].ssd.num_classes = len(labels)\n",
    "configs['train_config'].batch_size = 4\n",
    "configs['train_config'].fine_tune_checkpoint = os.path.join(paths['EXPORTED_MODEL_PATH'], 'checkpoint', 'ckpt-0')\n",
    "configs['train_config'].fine_tune_checkpoint_type = \"detection\"\n",
    "configs['train_input_config'].label_map_path = files['LABELMAP']\n",
    "configs['train_input_config'].tf_record_input_reader.input_path[:] = [os.path.join(paths['ANNOTATION_PATH'], 'train.record')]\n",
    "configs['eval_input_configs'][0].label_map_path = files['LABELMAP']\n",
    "configs['eval_input_configs'][0].tf_record_input_reader.input_path[:] = [os.path.join(paths['ANNOTATION_PATH'], 'test.record')]"
   ]
  },
  {
   "cell_type": "code",
   "execution_count": 14,
   "id": "bf8f1e54-358b-492b-8b6e-8e96fd7eb952",
   "metadata": {},
   "outputs": [
    {
     "name": "stdout",
     "output_type": "stream",
     "text": [
      "INFO:tensorflow:Writing pipeline config file to D:\\Code_school_nam3ki2\\TestModel\\Tensorflow\\workspace\\models\\my_ssd_mobnet\\pipeline.config\n"
     ]
    }
   ],
   "source": [
    "# Lưu lại custom model vào file config\n",
    "pipeline_config = config_util.create_pipeline_proto_from_configs(configs)\n",
    "config_util.save_pipeline_config(pipeline_config, os.path.dirname(files['PIPELINE_CONFIG']))"
   ]
  },
  {
   "cell_type": "code",
   "execution_count": 15,
   "id": "30bcd7b2-0cdb-486a-ab33-5fdaded74ba2",
   "metadata": {},
   "outputs": [
    {
     "data": {
      "text/plain": [
       "'D:\\\\Code_school_nam3ki2\\\\TestModel\\\\check'"
      ]
     },
     "execution_count": 15,
     "metadata": {},
     "output_type": "execute_result"
    }
   ],
   "source": [
    "trainnig_check_dir = r\"D:\\Code_school_nam3ki2\\TestModel\\check\"\n",
    "trainnig_check_dir"
   ]
  },
  {
   "cell_type": "code",
   "execution_count": 16,
   "id": "6a6c34e5-b552-4faf-8b92-61f18437d9aa",
   "metadata": {},
   "outputs": [],
   "source": [
    "#Train model\n",
    "TRAINING_SCRIPT = os.path.join(paths['APIMODEL_PATH'], 'research', 'object_detection', 'model_main_tf2.py')\n",
    "command = \"python {} --model_dir={} --pipeline_config_path={} --num_train_steps=1000\".format(TRAINING_SCRIPT, trainnig_check_dir, files['PIPELINE_CONFIG'])"
   ]
  },
  {
   "cell_type": "code",
   "execution_count": 17,
   "id": "77b4ee00-16ea-4736-8b4a-431b0f260c61",
   "metadata": {},
   "outputs": [
    {
     "data": {
      "text/plain": [
       "'python D:\\\\Code_school_nam3ki2\\\\TestModel\\\\Tensorflow\\\\models\\\\research\\\\object_detection\\\\model_main_tf2.py --model_dir=D:\\\\Code_school_nam3ki2\\\\TestModel\\\\check --pipeline_config_path=D:\\\\Code_school_nam3ki2\\\\TestModel\\\\Tensorflow\\\\workspace\\\\models\\\\my_ssd_mobnet\\\\pipeline.config --num_train_steps=1000'"
      ]
     },
     "execution_count": 17,
     "metadata": {},
     "output_type": "execute_result"
    }
   ],
   "source": [
    "command"
   ]
  },
  {
   "cell_type": "code",
   "execution_count": 18,
   "id": "16b4bc27-2f87-4ef3-864d-a1bd7efb02e6",
   "metadata": {},
   "outputs": [
    {
     "name": "stderr",
     "output_type": "stream",
     "text": [
      "C:\\Users\\minh3\\.conda\\envs\\py310\\lib\\site-packages\\tensorflow_addons\\utils\\tfa_eol_msg.py:23: UserWarning: \n",
      "\n",
      "TensorFlow Addons (TFA) has ended development and introduction of new features.\n",
      "TFA has entered a minimal maintenance and release mode until a planned end of life in May 2024.\n",
      "Please modify downstream libraries to take dependencies from other repositories in our TensorFlow community (e.g. Keras, Keras-CV, and Keras-NLP). \n",
      "\n",
      "For more information see: https://github.com/tensorflow/addons/issues/2807 \n",
      "\n",
      "  warnings.warn(\n",
      "C:\\Users\\minh3\\.conda\\envs\\py310\\lib\\site-packages\\tensorflow_addons\\utils\\ensure_tf_install.py:53: UserWarning: Tensorflow Addons supports using Python ops for all Tensorflow versions above or equal to 2.12.0 and strictly below 2.15.0 (nightly versions are not supported). \n",
      " The versions of TensorFlow you are currently using is 2.10.1 and is not supported. \n",
      "Some things might work, some things might not.\n",
      "If you were to encounter a bug, do not file an issue.\n",
      "If you want to make sure you're using a tested and supported configuration, either change the TensorFlow version or the TensorFlow Addons's version. \n",
      "You can find the compatibility matrix in TensorFlow Addon's readme:\n",
      "https://github.com/tensorflow/addons\n",
      "  warnings.warn(\n",
      "2024-05-11 12:47:13.794476: I tensorflow/core/platform/cpu_feature_guard.cc:193] This TensorFlow binary is optimized with oneAPI Deep Neural Network Library (oneDNN) to use the following CPU instructions in performance-critical operations:  AVX AVX2\n",
      "To enable them in other operations, rebuild TensorFlow with the appropriate compiler flags.\n",
      "2024-05-11 12:47:14.902883: I tensorflow/core/common_runtime/gpu/gpu_device.cc:1616] Created device /job:localhost/replica:0/task:0/device:GPU:0 with 1668 MB memory:  -> device: 0, name: NVIDIA GeForce RTX 3050 Laptop GPU, pci bus id: 0000:01:00.0, compute capability: 8.6\n",
      "INFO:tensorflow:Using MirroredStrategy with devices ('/job:localhost/replica:0/task:0/device:GPU:0',)\n",
      "I0511 12:47:15.225261 26716 mirrored_strategy.py:374] Using MirroredStrategy with devices ('/job:localhost/replica:0/task:0/device:GPU:0',)\n",
      "INFO:tensorflow:Maybe overwriting train_steps: 1000\n",
      "I0511 12:47:15.229234 26716 config_util.py:552] Maybe overwriting train_steps: 1000\n",
      "INFO:tensorflow:Maybe overwriting use_bfloat16: False\n",
      "I0511 12:47:15.229234 26716 config_util.py:552] Maybe overwriting use_bfloat16: False\n",
      "WARNING:tensorflow:From C:\\Users\\minh3\\.conda\\envs\\py310\\lib\\site-packages\\object_detection\\model_lib_v2.py:563: StrategyBase.experimental_distribute_datasets_from_function (from tensorflow.python.distribute.distribute_lib) is deprecated and will be removed in a future version.\n",
      "Instructions for updating:\n",
      "rename to distribute_datasets_from_function\n",
      "W0511 12:47:15.257684 26716 deprecation.py:350] From C:\\Users\\minh3\\.conda\\envs\\py310\\lib\\site-packages\\object_detection\\model_lib_v2.py:563: StrategyBase.experimental_distribute_datasets_from_function (from tensorflow.python.distribute.distribute_lib) is deprecated and will be removed in a future version.\n",
      "Instructions for updating:\n",
      "rename to distribute_datasets_from_function\n",
      "INFO:tensorflow:Reading unweighted datasets: ['D:\\\\Code_school_nam3ki2\\\\TestModel\\\\Tensorflow\\\\workspace\\\\annotations\\\\train.record']\n",
      "I0511 12:47:15.269509 26716 dataset_builder.py:162] Reading unweighted datasets: ['D:\\\\Code_school_nam3ki2\\\\TestModel\\\\Tensorflow\\\\workspace\\\\annotations\\\\train.record']\n",
      "INFO:tensorflow:Reading record datasets for input file: ['D:\\\\Code_school_nam3ki2\\\\TestModel\\\\Tensorflow\\\\workspace\\\\annotations\\\\train.record']\n",
      "I0511 12:47:15.269509 26716 dataset_builder.py:79] Reading record datasets for input file: ['D:\\\\Code_school_nam3ki2\\\\TestModel\\\\Tensorflow\\\\workspace\\\\annotations\\\\train.record']\n",
      "INFO:tensorflow:Number of filenames to read: 1\n",
      "I0511 12:47:15.269509 26716 dataset_builder.py:80] Number of filenames to read: 1\n",
      "WARNING:tensorflow:num_readers has been reduced to 1 to match input file shards.\n",
      "W0511 12:47:15.270832 26716 dataset_builder.py:86] num_readers has been reduced to 1 to match input file shards.\n",
      "WARNING:tensorflow:From C:\\Users\\minh3\\.conda\\envs\\py310\\lib\\site-packages\\object_detection\\builders\\dataset_builder.py:100: parallel_interleave (from tensorflow.python.data.experimental.ops.interleave_ops) is deprecated and will be removed in a future version.\n",
      "Instructions for updating:\n",
      "Use `tf.data.Dataset.interleave(map_func, cycle_length, block_length, num_parallel_calls=tf.data.AUTOTUNE)` instead. If sloppy execution is desired, use `tf.data.Options.deterministic`.\n",
      "W0511 12:47:15.286768 26716 deprecation.py:350] From C:\\Users\\minh3\\.conda\\envs\\py310\\lib\\site-packages\\object_detection\\builders\\dataset_builder.py:100: parallel_interleave (from tensorflow.python.data.experimental.ops.interleave_ops) is deprecated and will be removed in a future version.\n",
      "Instructions for updating:\n",
      "Use `tf.data.Dataset.interleave(map_func, cycle_length, block_length, num_parallel_calls=tf.data.AUTOTUNE)` instead. If sloppy execution is desired, use `tf.data.Options.deterministic`.\n",
      "WARNING:tensorflow:From C:\\Users\\minh3\\.conda\\envs\\py310\\lib\\site-packages\\object_detection\\builders\\dataset_builder.py:235: DatasetV1.map_with_legacy_function (from tensorflow.python.data.ops.dataset_ops) is deprecated and will be removed in a future version.\n",
      "Instructions for updating:\n",
      "Use `tf.data.Dataset.map()\n",
      "W0511 12:47:15.314874 26716 deprecation.py:350] From C:\\Users\\minh3\\.conda\\envs\\py310\\lib\\site-packages\\object_detection\\builders\\dataset_builder.py:235: DatasetV1.map_with_legacy_function (from tensorflow.python.data.ops.dataset_ops) is deprecated and will be removed in a future version.\n",
      "Instructions for updating:\n",
      "Use `tf.data.Dataset.map()\n",
      "WARNING:tensorflow:From C:\\Users\\minh3\\.conda\\envs\\py310\\lib\\site-packages\\tensorflow-2.10.1-py3.10-win-amd64.egg\\tensorflow\\python\\util\\dispatch.py:1176: sparse_to_dense (from tensorflow.python.ops.sparse_ops) is deprecated and will be removed in a future version.\n",
      "Instructions for updating:\n",
      "Create a `tf.sparse.SparseTensor` and use `tf.sparse.to_dense` instead.\n",
      "W0511 12:47:31.317648 26716 deprecation.py:350] From C:\\Users\\minh3\\.conda\\envs\\py310\\lib\\site-packages\\tensorflow-2.10.1-py3.10-win-amd64.egg\\tensorflow\\python\\util\\dispatch.py:1176: sparse_to_dense (from tensorflow.python.ops.sparse_ops) is deprecated and will be removed in a future version.\n",
      "Instructions for updating:\n",
      "Create a `tf.sparse.SparseTensor` and use `tf.sparse.to_dense` instead.\n",
      "WARNING:tensorflow:From C:\\Users\\minh3\\.conda\\envs\\py310\\lib\\site-packages\\tensorflow-2.10.1-py3.10-win-amd64.egg\\tensorflow\\python\\util\\dispatch.py:1176: sample_distorted_bounding_box (from tensorflow.python.ops.image_ops_impl) is deprecated and will be removed in a future version.\n",
      "Instructions for updating:\n",
      "`seed2` arg is deprecated.Use sample_distorted_bounding_box_v2 instead.\n",
      "W0511 12:47:39.083442 26716 deprecation.py:350] From C:\\Users\\minh3\\.conda\\envs\\py310\\lib\\site-packages\\tensorflow-2.10.1-py3.10-win-amd64.egg\\tensorflow\\python\\util\\dispatch.py:1176: sample_distorted_bounding_box (from tensorflow.python.ops.image_ops_impl) is deprecated and will be removed in a future version.\n",
      "Instructions for updating:\n",
      "`seed2` arg is deprecated.Use sample_distorted_bounding_box_v2 instead.\n",
      "WARNING:tensorflow:From C:\\Users\\minh3\\.conda\\envs\\py310\\lib\\site-packages\\tensorflow-2.10.1-py3.10-win-amd64.egg\\tensorflow\\python\\util\\dispatch.py:1176: to_float (from tensorflow.python.ops.math_ops) is deprecated and will be removed in a future version.\n",
      "Instructions for updating:\n",
      "Use `tf.cast` instead.\n",
      "W0511 12:47:43.953988 26716 deprecation.py:350] From C:\\Users\\minh3\\.conda\\envs\\py310\\lib\\site-packages\\tensorflow-2.10.1-py3.10-win-amd64.egg\\tensorflow\\python\\util\\dispatch.py:1176: to_float (from tensorflow.python.ops.math_ops) is deprecated and will be removed in a future version.\n",
      "Instructions for updating:\n",
      "Use `tf.cast` instead.\n",
      "C:\\Users\\minh3\\.conda\\envs\\py310\\lib\\site-packages\\keras\\backend.py:451: UserWarning: `tf.keras.backend.set_learning_phase` is deprecated and will be removed after 2020-10-11. To update it, simply pass a True/False value to the `training` argument of the `__call__` method of your layer or model.\n",
      "  warnings.warn(\n",
      "I0511 12:48:02.803708 27848 api.py:459] feature_map_spatial_dims: [(40, 40), (20, 20), (10, 10), (5, 5), (3, 3)]\n",
      "I0511 12:48:14.966276 24908 api.py:459] feature_map_spatial_dims: [(40, 40), (20, 20), (10, 10), (5, 5), (3, 3)]\n",
      "2024-05-11 12:48:27.414662: I tensorflow/stream_executor/cuda/cuda_dnn.cc:384] Loaded cuDNN version 8100\n",
      "2024-05-11 12:48:36.726712: I tensorflow/stream_executor/cuda/cuda_blas.cc:1614] TensorFloat-32 will be used for the matrix multiplication. This will only be logged once.\n",
      "INFO:tensorflow:Reduce to /job:localhost/replica:0/task:0/device:CPU:0 then broadcast to ('/job:localhost/replica:0/task:0/device:CPU:0',).\n",
      "I0511 12:48:46.039396 26716 cross_device_ops.py:616] Reduce to /job:localhost/replica:0/task:0/device:CPU:0 then broadcast to ('/job:localhost/replica:0/task:0/device:CPU:0',).\n",
      "INFO:tensorflow:Reduce to /job:localhost/replica:0/task:0/device:CPU:0 then broadcast to ('/job:localhost/replica:0/task:0/device:CPU:0',).\n",
      "I0511 12:48:46.190770 26716 cross_device_ops.py:616] Reduce to /job:localhost/replica:0/task:0/device:CPU:0 then broadcast to ('/job:localhost/replica:0/task:0/device:CPU:0',).\n",
      "INFO:tensorflow:Reduce to /job:localhost/replica:0/task:0/device:CPU:0 then broadcast to ('/job:localhost/replica:0/task:0/device:CPU:0',).\n",
      "I0511 12:48:46.218771 26716 cross_device_ops.py:616] Reduce to /job:localhost/replica:0/task:0/device:CPU:0 then broadcast to ('/job:localhost/replica:0/task:0/device:CPU:0',).\n",
      "INFO:tensorflow:Reduce to /job:localhost/replica:0/task:0/device:CPU:0 then broadcast to ('/job:localhost/replica:0/task:0/device:CPU:0',).\n",
      "I0511 12:48:46.221772 26716 cross_device_ops.py:616] Reduce to /job:localhost/replica:0/task:0/device:CPU:0 then broadcast to ('/job:localhost/replica:0/task:0/device:CPU:0',).\n",
      "INFO:tensorflow:Reduce to /job:localhost/replica:0/task:0/device:CPU:0 then broadcast to ('/job:localhost/replica:0/task:0/device:CPU:0',).\n",
      "I0511 12:48:46.229775 26716 cross_device_ops.py:616] Reduce to /job:localhost/replica:0/task:0/device:CPU:0 then broadcast to ('/job:localhost/replica:0/task:0/device:CPU:0',).\n",
      "INFO:tensorflow:Reduce to /job:localhost/replica:0/task:0/device:CPU:0 then broadcast to ('/job:localhost/replica:0/task:0/device:CPU:0',).\n",
      "I0511 12:48:46.231809 26716 cross_device_ops.py:616] Reduce to /job:localhost/replica:0/task:0/device:CPU:0 then broadcast to ('/job:localhost/replica:0/task:0/device:CPU:0',).\n",
      "INFO:tensorflow:Reduce to /job:localhost/replica:0/task:0/device:CPU:0 then broadcast to ('/job:localhost/replica:0/task:0/device:CPU:0',).\n",
      "I0511 12:48:46.243182 26716 cross_device_ops.py:616] Reduce to /job:localhost/replica:0/task:0/device:CPU:0 then broadcast to ('/job:localhost/replica:0/task:0/device:CPU:0',).\n",
      "INFO:tensorflow:Reduce to /job:localhost/replica:0/task:0/device:CPU:0 then broadcast to ('/job:localhost/replica:0/task:0/device:CPU:0',).\n",
      "I0511 12:48:46.245302 26716 cross_device_ops.py:616] Reduce to /job:localhost/replica:0/task:0/device:CPU:0 then broadcast to ('/job:localhost/replica:0/task:0/device:CPU:0',).\n",
      "INFO:tensorflow:Reduce to /job:localhost/replica:0/task:0/device:CPU:0 then broadcast to ('/job:localhost/replica:0/task:0/device:CPU:0',).\n",
      "I0511 12:48:46.252327 26716 cross_device_ops.py:616] Reduce to /job:localhost/replica:0/task:0/device:CPU:0 then broadcast to ('/job:localhost/replica:0/task:0/device:CPU:0',).\n",
      "INFO:tensorflow:Reduce to /job:localhost/replica:0/task:0/device:CPU:0 then broadcast to ('/job:localhost/replica:0/task:0/device:CPU:0',).\n",
      "I0511 12:48:46.255855 26716 cross_device_ops.py:616] Reduce to /job:localhost/replica:0/task:0/device:CPU:0 then broadcast to ('/job:localhost/replica:0/task:0/device:CPU:0',).\n",
      "WARNING:tensorflow:From C:\\Users\\minh3\\.conda\\envs\\py310\\lib\\site-packages\\tensorflow-2.10.1-py3.10-win-amd64.egg\\tensorflow\\python\\util\\deprecation.py:629: calling map_fn_v2 (from tensorflow.python.ops.map_fn) with dtype is deprecated and will be removed in a future version.\n",
      "Instructions for updating:\n",
      "Use fn_output_signature instead\n",
      "W0511 12:48:51.832504 11956 deprecation.py:554] From C:\\Users\\minh3\\.conda\\envs\\py310\\lib\\site-packages\\tensorflow-2.10.1-py3.10-win-amd64.egg\\tensorflow\\python\\util\\deprecation.py:629: calling map_fn_v2 (from tensorflow.python.ops.map_fn) with dtype is deprecated and will be removed in a future version.\n",
      "Instructions for updating:\n",
      "Use fn_output_signature instead\n",
      "I0511 12:48:55.981220 11956 api.py:459] feature_map_spatial_dims: [(40, 40), (20, 20), (10, 10), (5, 5), (3, 3)]\n",
      "I0511 12:49:07.123329 19120 api.py:459] feature_map_spatial_dims: [(40, 40), (20, 20), (10, 10), (5, 5), (3, 3)]\n",
      "I0511 12:49:14.064739  2928 api.py:459] feature_map_spatial_dims: [(40, 40), (20, 20), (10, 10), (5, 5), (3, 3)]\n",
      "I0511 12:49:20.223185 26748 api.py:459] feature_map_spatial_dims: [(40, 40), (20, 20), (10, 10), (5, 5), (3, 3)]\n",
      "INFO:tensorflow:Step 100 per-step time 0.573s\n",
      "I0511 12:49:45.979307 26716 model_lib_v2.py:705] Step 100 per-step time 0.573s\n",
      "INFO:tensorflow:{'Loss/classification_loss': 0.16411127,\n",
      " 'Loss/localization_loss': 0.16235021,\n",
      " 'Loss/regularization_loss': 0.15374431,\n",
      " 'Loss/total_loss': 0.4802058,\n",
      " 'learning_rate': 0.0319994}\n",
      "I0511 12:49:46.082639 26716 model_lib_v2.py:708] {'Loss/classification_loss': 0.16411127,\n",
      " 'Loss/localization_loss': 0.16235021,\n",
      " 'Loss/regularization_loss': 0.15374431,\n",
      " 'Loss/total_loss': 0.4802058,\n",
      " 'learning_rate': 0.0319994}\n",
      "INFO:tensorflow:Step 200 per-step time 0.134s\n",
      "I0511 12:49:58.836718 26716 model_lib_v2.py:705] Step 200 per-step time 0.134s\n",
      "INFO:tensorflow:{'Loss/classification_loss': 0.22298144,\n",
      " 'Loss/localization_loss': 0.25079125,\n",
      " 'Loss/regularization_loss': 0.15371591,\n",
      " 'Loss/total_loss': 0.6274886,\n",
      " 'learning_rate': 0.0373328}\n",
      "I0511 12:49:58.838724 26716 model_lib_v2.py:708] {'Loss/classification_loss': 0.22298144,\n",
      " 'Loss/localization_loss': 0.25079125,\n",
      " 'Loss/regularization_loss': 0.15371591,\n",
      " 'Loss/total_loss': 0.6274886,\n",
      " 'learning_rate': 0.0373328}\n",
      "INFO:tensorflow:Step 300 per-step time 0.125s\n",
      "I0511 12:50:11.343726 26716 model_lib_v2.py:705] Step 300 per-step time 0.125s\n",
      "INFO:tensorflow:{'Loss/classification_loss': 0.52750444,\n",
      " 'Loss/localization_loss': 0.4883068,\n",
      " 'Loss/regularization_loss': 0.15364298,\n",
      " 'Loss/total_loss': 1.1694542,\n",
      " 'learning_rate': 0.0426662}\n",
      "I0511 12:50:11.344941 26716 model_lib_v2.py:708] {'Loss/classification_loss': 0.52750444,\n",
      " 'Loss/localization_loss': 0.4883068,\n",
      " 'Loss/regularization_loss': 0.15364298,\n",
      " 'Loss/total_loss': 1.1694542,\n",
      " 'learning_rate': 0.0426662}\n",
      "INFO:tensorflow:Step 400 per-step time 0.127s\n",
      "I0511 12:50:24.023919 26716 model_lib_v2.py:705] Step 400 per-step time 0.127s\n",
      "INFO:tensorflow:{'Loss/classification_loss': 0.18332954,\n",
      " 'Loss/localization_loss': 0.17714559,\n",
      " 'Loss/regularization_loss': 0.15381499,\n",
      " 'Loss/total_loss': 0.5142901,\n",
      " 'learning_rate': 0.047999598}\n",
      "I0511 12:50:24.024923 26716 model_lib_v2.py:708] {'Loss/classification_loss': 0.18332954,\n",
      " 'Loss/localization_loss': 0.17714559,\n",
      " 'Loss/regularization_loss': 0.15381499,\n",
      " 'Loss/total_loss': 0.5142901,\n",
      " 'learning_rate': 0.047999598}\n",
      "INFO:tensorflow:Step 500 per-step time 0.093s\n",
      "I0511 12:50:33.325774 26716 model_lib_v2.py:705] Step 500 per-step time 0.093s\n",
      "INFO:tensorflow:{'Loss/classification_loss': 0.15156615,\n",
      " 'Loss/localization_loss': 0.16644387,\n",
      " 'Loss/regularization_loss': 0.15395969,\n",
      " 'Loss/total_loss': 0.47196972,\n",
      " 'learning_rate': 0.053333}\n",
      "I0511 12:50:33.326779 26716 model_lib_v2.py:708] {'Loss/classification_loss': 0.15156615,\n",
      " 'Loss/localization_loss': 0.16644387,\n",
      " 'Loss/regularization_loss': 0.15395969,\n",
      " 'Loss/total_loss': 0.47196972,\n",
      " 'learning_rate': 0.053333}\n",
      "INFO:tensorflow:Step 600 per-step time 0.094s\n",
      "I0511 12:50:42.750057 26716 model_lib_v2.py:705] Step 600 per-step time 0.094s\n",
      "INFO:tensorflow:{'Loss/classification_loss': 0.16139308,\n",
      " 'Loss/localization_loss': 0.13432708,\n",
      " 'Loss/regularization_loss': 0.15413308,\n",
      " 'Loss/total_loss': 0.44985324,\n",
      " 'learning_rate': 0.0586664}\n",
      "I0511 12:50:42.752071 26716 model_lib_v2.py:708] {'Loss/classification_loss': 0.16139308,\n",
      " 'Loss/localization_loss': 0.13432708,\n",
      " 'Loss/regularization_loss': 0.15413308,\n",
      " 'Loss/total_loss': 0.44985324,\n",
      " 'learning_rate': 0.0586664}\n",
      "INFO:tensorflow:Step 700 per-step time 0.092s\n",
      "I0511 12:50:51.933151 26716 model_lib_v2.py:705] Step 700 per-step time 0.092s\n",
      "INFO:tensorflow:{'Loss/classification_loss': 0.29697534,\n",
      " 'Loss/localization_loss': 0.35900477,\n",
      " 'Loss/regularization_loss': 0.15416169,\n",
      " 'Loss/total_loss': 0.8101418,\n",
      " 'learning_rate': 0.0639998}\n",
      "I0511 12:50:51.934624 26716 model_lib_v2.py:708] {'Loss/classification_loss': 0.29697534,\n",
      " 'Loss/localization_loss': 0.35900477,\n",
      " 'Loss/regularization_loss': 0.15416169,\n",
      " 'Loss/total_loss': 0.8101418,\n",
      " 'learning_rate': 0.0639998}\n",
      "INFO:tensorflow:Step 800 per-step time 0.091s\n",
      "I0511 12:51:01.035089 26716 model_lib_v2.py:705] Step 800 per-step time 0.091s\n",
      "INFO:tensorflow:{'Loss/classification_loss': 0.15894179,\n",
      " 'Loss/localization_loss': 0.12884457,\n",
      " 'Loss/regularization_loss': 0.15376247,\n",
      " 'Loss/total_loss': 0.44154882,\n",
      " 'learning_rate': 0.069333196}\n",
      "I0511 12:51:01.036088 26716 model_lib_v2.py:708] {'Loss/classification_loss': 0.15894179,\n",
      " 'Loss/localization_loss': 0.12884457,\n",
      " 'Loss/regularization_loss': 0.15376247,\n",
      " 'Loss/total_loss': 0.44154882,\n",
      " 'learning_rate': 0.069333196}\n",
      "INFO:tensorflow:Step 900 per-step time 0.095s\n",
      "I0511 12:51:10.551314 26716 model_lib_v2.py:705] Step 900 per-step time 0.095s\n",
      "INFO:tensorflow:{'Loss/classification_loss': 0.08945336,\n",
      " 'Loss/localization_loss': 0.107242346,\n",
      " 'Loss/regularization_loss': 0.15326963,\n",
      " 'Loss/total_loss': 0.34996533,\n",
      " 'learning_rate': 0.074666604}\n",
      "I0511 12:51:10.553366 26716 model_lib_v2.py:708] {'Loss/classification_loss': 0.08945336,\n",
      " 'Loss/localization_loss': 0.107242346,\n",
      " 'Loss/regularization_loss': 0.15326963,\n",
      " 'Loss/total_loss': 0.34996533,\n",
      " 'learning_rate': 0.074666604}\n",
      "INFO:tensorflow:Step 1000 per-step time 0.092s\n",
      "I0511 12:51:19.812763 26716 model_lib_v2.py:705] Step 1000 per-step time 0.092s\n",
      "INFO:tensorflow:{'Loss/classification_loss': 0.14355345,\n",
      " 'Loss/localization_loss': 0.08624144,\n",
      " 'Loss/regularization_loss': 0.15289797,\n",
      " 'Loss/total_loss': 0.38269287,\n",
      " 'learning_rate': 0.08}\n",
      "I0511 12:51:19.812763 26716 model_lib_v2.py:708] {'Loss/classification_loss': 0.14355345,\n",
      " 'Loss/localization_loss': 0.08624144,\n",
      " 'Loss/regularization_loss': 0.15289797,\n",
      " 'Loss/total_loss': 0.38269287,\n",
      " 'learning_rate': 0.08}\n"
     ]
    }
   ],
   "source": [
    "!{command}"
   ]
  }
 ],
 "metadata": {
  "kernelspec": {
   "display_name": "py310",
   "language": "python",
   "name": "py310"
  },
  "language_info": {
   "codemirror_mode": {
    "name": "ipython",
    "version": 3
   },
   "file_extension": ".py",
   "mimetype": "text/x-python",
   "name": "python",
   "nbconvert_exporter": "python",
   "pygments_lexer": "ipython3",
   "version": "3.10.14"
  }
 },
 "nbformat": 4,
 "nbformat_minor": 5
}
